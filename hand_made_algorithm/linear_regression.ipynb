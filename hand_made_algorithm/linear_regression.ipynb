{
 "cells": [
  {
   "cell_type": "markdown",
   "metadata": {},
   "source": [
    "Linear regression is a predictive model that assumes the outcome has the linear relationship with the observed signals, e.g. $\\hat{y} = w^Tx$, where $\\hat{y}$ is the outcome predicted with respect to the given observation vector $x = (x_1, x_2, ..., x_k)$ and the learned weights of the model $w = (w_1, w_2, ..., w_k)$.\n",
    "\n",
    "![linear regression](https://github.com/yxjiang/ml_playground/tree/master/hand_made_algorithm/imgs/linear_regression.png)\n",
    "\n",
    "To quantify the predictability of the model, min-squared error (MSE) is used as the cost function is defined as $C = -\\frac{1}{}\\sum_i y\\log{\\hat{y}}$. Usually, a regularization term $b = \\lambda ||w||_m$ is added to make less likely to overfit to the training data, making the cost function."
   ]
  },
  {
   "cell_type": "code",
   "execution_count": 72,
   "metadata": {},
   "outputs": [],
   "source": [
    "import numpy as np\n",
    "\n",
    "class LinearRegression:\n",
    "    \n",
    "    def __init__(self, ndim, l2_weight):\n",
    "        self.W = np.random.randn(1, ndim + 1)  # to include the weight for the bias term\n",
    "        self.l2_weight = l2_weight\n",
    "        \n",
    "    def predict(self, X):\n",
    "        # pretend 1 to X as the bias term\n",
    "        bias = np.ones((X.shape[0], 1))\n",
    "        X = np.concatenate((bias, X), axis=1)\n",
    "        return X.dot(self.W.T)  # y = w^T * x\n",
    "    \n",
    "    def train(self, X, lr):\n",
    "        pass\n",
    "    \n",
    "    "
   ]
  },
  {
   "cell_type": "code",
   "execution_count": 73,
   "metadata": {},
   "outputs": [
    {
     "name": "stdout",
     "output_type": "stream",
     "text": [
      "X.shape: (2, 6)\n",
      "W.shape: (1, 6)\n",
      "W.T.shape: (6, 1)\n",
      "[[-1.84798018]\n",
      " [ 3.85418498]]\n"
     ]
    }
   ],
   "source": [
    "model = LinearRegression(5, 0)\n",
    "x = np.random.randn(1,5)\n",
    "y = np.random.randn(1,5)\n",
    "X = np.vstack((x, y))\n",
    "print(model.predict(X))"
   ]
  },
  {
   "cell_type": "code",
   "execution_count": null,
   "metadata": {},
   "outputs": [],
   "source": []
  },
  {
   "cell_type": "code",
   "execution_count": null,
   "metadata": {},
   "outputs": [],
   "source": []
  }
 ],
 "metadata": {
  "kernelspec": {
   "display_name": "Python 3",
   "language": "python",
   "name": "python3"
  },
  "language_info": {
   "codemirror_mode": {
    "name": "ipython",
    "version": 3
   },
   "file_extension": ".py",
   "mimetype": "text/x-python",
   "name": "python",
   "nbconvert_exporter": "python",
   "pygments_lexer": "ipython3",
   "version": "3.6.9"
  }
 },
 "nbformat": 4,
 "nbformat_minor": 4
}
