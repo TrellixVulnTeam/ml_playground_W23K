{
 "cells": [
  {
   "cell_type": "code",
   "execution_count": null,
   "id": "71edf8f4-157d-4def-ad38-485a9bfcd441",
   "metadata": {},
   "outputs": [],
   "source": [
    "import os\n",
    "import cv2\n",
    "import torch\n",
    "\n",
    "# model = torch.hub.load(\"ultralytics/yolov5\", \"yolov5s\")\n",
    "\n",
    "# cap = cv2.VideoCapture(\"traffic.mp4\")\n",
    "\n",
    "# while True:\n",
    "#     _, frame = cap.read()\n",
    "    \n",
    "#     # Inference\n",
    "#     # results = model(frame)\n",
    "#     # print(results)\n",
    "#     # break\n",
    "#     # results.print()\n",
    "\n",
    "#     cv2.imshow(\"Frame\", frame)\n",
    "#     key = cv2.waitKey(1)\n",
    "#     if key != -1: \n",
    "#         break\n",
    "\n",
    "# cap.release()\n",
    "# cv2.destroyAllWindows()\n",
    "# cv2.waitKey(1)"
   ]
  },
  {
   "cell_type": "code",
   "execution_count": null,
   "id": "72f0c6db-2283-4b88-b3c6-c0c5fcd0cef2",
   "metadata": {},
   "outputs": [],
   "source": []
  }
 ],
 "metadata": {
  "kernelspec": {
   "display_name": "Python 3 (ipykernel)",
   "language": "python",
   "name": "python3"
  },
  "language_info": {
   "codemirror_mode": {
    "name": "ipython",
    "version": 3
   },
   "file_extension": ".py",
   "mimetype": "text/x-python",
   "name": "python",
   "nbconvert_exporter": "python",
   "pygments_lexer": "ipython3",
   "version": "3.9.7"
  }
 },
 "nbformat": 4,
 "nbformat_minor": 5
}
