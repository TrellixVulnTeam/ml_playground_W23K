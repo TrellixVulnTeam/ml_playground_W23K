{
 "cells": [
  {
   "cell_type": "code",
   "execution_count": 1,
   "metadata": {
    "tags": []
   },
   "outputs": [
    {
     "output_type": "stream",
     "name": "stdout",
     "text": "/home/yxjiang/source/ml_playground\n"
    }
   ],
   "source": [
    "# data downloading\n",
    "import data_util\n",
    "import pandas as pd\n",
    "from collections import defaultdict\n",
    "import os\n",
    "import sys\n",
    "\n",
    "os.chdir(\"/home/yxjiang/source/ml_playground\")\n",
    "print(os.getcwd())\n",
    "\n",
    "from config import *"
   ]
  },
  {
   "cell_type": "code",
   "execution_count": 2,
   "metadata": {
    "tags": []
   },
   "outputs": [
    {
     "output_type": "stream",
     "name": "stdout",
     "text": "Destination folder [/tmp/data] exists.\nTarget file [aclImdb_v1.tar.gz] exists, skip downloading.\nStart to extract [/tmp/data/aclImdb_v1.tar.gz] to [/tmp/data]...\nFile extracted\nProcessing vocabulary from [/tmp/data/aclImdb].\nThere size of vocabulary is : 89527\n"
    }
   ],
   "source": [
    "dataset_url=\"https://ai.stanford.edu/~amaas/data/sentiment/aclImdb_v1.tar.gz\"\n",
    "\n",
    "dest_dir = \"/tmp/data\"\n",
    "dataset_folder_path = os.path.join(dest_dir, \"aclImdb\")\n",
    "data_util.download_data(url=dataset_url, dest_dir=dest_dir)\n",
    "\n",
    "# generate word to id mapping\n",
    "word_to_id, word_list = data_util.get_vocabulary(folder_path=dataset_folder_path, file_suffix=\"vocab\")\n",
    "print(\"There size of vocabulary is :\", len(word_to_id))"
   ]
  },
  {
   "cell_type": "code",
   "execution_count": 3,
   "metadata": {},
   "outputs": [],
   "source": [
    "# model\n",
    "class RNN(nn.Module):\n",
    "    def __init__(self, config, vocabulary_size):\n",
    "        super().__init__()\n",
    "        self.config = config\n",
    "        self.rnn_type = config.rnn_type\n",
    "        self.embed = nn.Embedding(vocabulary_size, config.word_embedding_length)\n",
    "        self.num_layers = 1\n",
    "        self.directions = 1\n",
    "        self.hidden_size = 128\n",
    "        if config.rnn_type is nn.RNN:\n",
    "            self.rnn = nn.RNN(\n",
    "                input_size=config.word_embedding_length, \n",
    "                hidden_size=self.hidden_size, \n",
    "                num_layers=self.num_layers\n",
    "            )\n",
    "        elif config.rnn_type is nn.LSTM:\n",
    "            self.cell_size = 128\n",
    "            self.rnn = nn.LSTM(\n",
    "                input_size=config.word_embedding_length,\n",
    "                hidden_size=self.hidden_size,\n",
    "                num_layers=self.num_layers\n",
    "            )\n",
    "        elif config.rnn_type is nn.GRU:\n",
    "            self.rnn = nn.GRU(\n",
    "                input_size=config.word_embedding_length, \n",
    "                hidden_size=self.hidden_size, \n",
    "                num_layers=self.num_layers\n",
    "            )\n",
    "        self.fc1 = nn.Linear(in_features=self.hidden_size, out_features=64)\n",
    "        self.dropout = nn.Dropout(config.dropout)\n",
    "        self.fc2 = nn.Linear(in_features=64, out_features=config.num_classes)\n",
    "\n",
    "    def forward(self, x):\n",
    "        batch = x.shape[0]\n",
    "        x = self.embed(x)  # (batch, sentence_length, embedding_dim)\n",
    "        x = x.permute(1, 0, 2).contiguous()  # (sentence_length, batch, embedding_dim)\n",
    "\n",
    "        h0 = torch.zeros((self.num_layers * self.directions, batch, self.hidden_size)).to(self.config.device)\n",
    "        if self.rnn_type is nn.RNN or self.rnn_type is nn.GRU:\n",
    "            output, ht = self.rnn(x, h0)\n",
    "        elif self.rnn_type is nn.LSTM:\n",
    "            c0 = torch.zeros((self.num_layers * self.directions, batch, self.hidden_size)).to(self.config.device)\n",
    "            output, (ht, ct) = self.rnn(x, (h0, c0))\n",
    "        ht = ht.view(self.num_layers, self.directions, ht.shape[1], -1) # decompose layers and directions\n",
    "        ht = ht[-1]  # get last layer and remove layer dimension\n",
    "        ht = ht.permute(1, 0, 2)  # (batch, directions, embedding_dim)\n",
    "        ht = ht.contiguous().view(batch, self.directions, self.hidden_size)\n",
    "        x = F.relu(self.fc1(ht))\n",
    "        x = self.dropout(x)\n",
    "        x = self.fc2(x)\n",
    "        x = x.view(batch, -1)\n",
    "        return x"
   ]
  },
  {
   "cell_type": "code",
   "execution_count": 4,
   "metadata": {
    "tags": []
   },
   "outputs": [
    {
     "output_type": "stream",
     "name": "stdout",
     "text": "[1 seconds](epoch: 0/500)[25000 samples] loss: 0.689.\neval loss: 0.696, accuracy: 50.052% [12513/25000]\n[95 seconds](epoch: 50/500)[1275000 samples] loss: 0.688.\neval loss: 0.691, accuracy: 52.648% [13162/25000]\n[190 seconds](epoch: 100/500)[2525000 samples] loss: 0.666.\neval loss: 0.687, accuracy: 54.688% [13672/25000]\n[285 seconds](epoch: 150/500)[3775000 samples] loss: 0.595.\neval loss: 0.639, accuracy: 63.496% [15874/25000]\n[381 seconds](epoch: 200/500)[5025000 samples] loss: 0.571.\neval loss: 0.613, accuracy: 66.236% [16559/25000]\n[476 seconds](epoch: 250/500)[6275000 samples] loss: 0.512.\neval loss: 0.598, accuracy: 67.904% [16976/25000]\n[572 seconds](epoch: 300/500)[7525000 samples] loss: 0.472.\neval loss: 0.593, accuracy: 69.020% [17255/25000]\n[667 seconds](epoch: 350/500)[8775000 samples] loss: 0.456.\neval loss: 0.599, accuracy: 69.472% [17368/25000]\n[761 seconds](epoch: 400/500)[10025000 samples] loss: 0.425.\neval loss: 0.608, accuracy: 69.768% [17442/25000]\n[856 seconds](epoch: 450/500)[11275000 samples] loss: 0.363.\neval loss: 0.622, accuracy: 69.964% [17491/25000]\n[950 seconds](epoch: 499/500)[12500000 samples] loss: 0.358.\neval loss: 0.644, accuracy: 70.084% [17521/25000]\n[1 seconds](epoch: 0/500)[25000 samples] loss: 0.698.\neval loss: 0.694, accuracy: 49.824% [12456/25000]\n[99 seconds](epoch: 50/500)[1275000 samples] loss: 0.690.\neval loss: 0.692, accuracy: 51.644% [12911/25000]\n[197 seconds](epoch: 100/500)[2525000 samples] loss: 0.681.\neval loss: 0.688, accuracy: 53.860% [13465/25000]\n[294 seconds](epoch: 150/500)[3775000 samples] loss: 0.628.\neval loss: 0.639, accuracy: 63.840% [15960/25000]\n[391 seconds](epoch: 200/500)[5025000 samples] loss: 0.555.\neval loss: 0.614, accuracy: 66.616% [16654/25000]\n[488 seconds](epoch: 250/500)[6275000 samples] loss: 0.544.\neval loss: 0.597, accuracy: 68.084% [17021/25000]\n[586 seconds](epoch: 300/500)[7525000 samples] loss: 0.461.\neval loss: 0.593, accuracy: 69.164% [17291/25000]\n[683 seconds](epoch: 350/500)[8775000 samples] loss: 0.485.\neval loss: 0.597, accuracy: 69.368% [17342/25000]\n[781 seconds](epoch: 400/500)[10025000 samples] loss: 0.404.\neval loss: 0.609, accuracy: 69.988% [17497/25000]\n[879 seconds](epoch: 450/500)[11275000 samples] loss: 0.361.\neval loss: 0.627, accuracy: 70.228% [17557/25000]\n[975 seconds](epoch: 499/500)[12500000 samples] loss: 0.362.\neval loss: 0.648, accuracy: 70.224% [17556/25000]\n"
    }
   ],
   "source": [
    "# put everything together\n",
    "import time\n",
    "from data_util import *\n",
    "from models import *\n",
    "from trainer import classification_trainer\n",
    "\n",
    "import torch.optim as optim\n",
    "import torch.nn as nn\n",
    "import torch.nn.functional as F\n",
    "\n",
    "# config = TextCNNConfig(\n",
    "#             criteria=nn.CrossEntropyLoss, optimizer=optim.Adam, lr=0.00003, epochs=1000, \n",
    "#             batch_size=1024, num_classes=2, sentence_max_length=30, word_embedding_length=128, \n",
    "#             activation=F.relu, dropout=0.1, conv_layer_sizes=[3,4,5,6,7]\n",
    "#         )\n",
    "\n",
    "def run(rnn_type, num_layers, **kwargs):\n",
    "    config = RNNConfig(\n",
    "        rnn_type=rnn_type,\n",
    "        criteria=nn.CrossEntropyLoss, optimizer=optim.Adam, lr=0.00001, epochs=500, \n",
    "        batch_size=1024, num_classes=2, sentence_max_length=40, word_embedding_length=128, \n",
    "        num_layers=num_layers, activation=F.relu, dropout=0.1, **kwargs\n",
    "    )\n",
    "\n",
    "    pos_train_data_folder = os.path.join(dataset_folder_path, \"train/pos\")\n",
    "    neg_train_data_folder = os.path.join(dataset_folder_path, \"train/neg\")\n",
    "    train_dataset = MovieReviewDataset(config, pos_train_data_folder, neg_train_data_folder, word_to_id, \n",
    "                                transform=transforms.Compose([\n",
    "                                    CutOrPadTransform(config), WordsToIdsTransform(config, word_to_id)\n",
    "                                ]))\n",
    "\n",
    "    pos_test_data_folder = os.path.join(dataset_folder_path, \"test/pos\")\n",
    "    neg_test_data_folder = os.path.join(dataset_folder_path, \"test/neg\")\n",
    "    test_dataset = MovieReviewDataset(config, pos_test_data_folder, neg_test_data_folder, word_to_id, \n",
    "                                transform=transforms.Compose([\n",
    "                                    CutOrPadTransform(config), WordsToIdsTransform(config, word_to_id)\n",
    "                                ]))\n",
    "\n",
    "    train_dataloader = DataLoader(dataset=train_dataset, batch_size=config.batch_size, shuffle=True)\n",
    "    test_dataloader = DataLoader(dataset=test_dataset, batch_size=config.batch_size)\n",
    "\n",
    "    # model = TextCNN(config, len(word_to_id)).to(device)\n",
    "    model = RNN(config, len(word_list)).to(config.device)\n",
    "\n",
    "    classification_trainer.train(model=model, config=config, train_dataloader=train_dataloader, test_dataloader=test_dataloader, check_interval=50)\n",
    "\n",
    "\n",
    "run(rnn_type=nn.GRU, num_layers=1)\n",
    "run(rnn_type=nn.GRU, num_layers=1, weight_decay=0.1)\n",
    "run(nn.LSTM, num_layers=1)"
   ]
  },
  {
   "cell_type": "code",
   "execution_count": null,
   "metadata": {},
   "outputs": [],
   "source": []
  }
 ],
 "metadata": {
  "kernelspec": {
   "display_name": "Python 3",
   "language": "python",
   "name": "python3"
  },
  "language_info": {
   "codemirror_mode": {
    "name": "ipython",
    "version": 3
   },
   "file_extension": ".py",
   "mimetype": "text/x-python",
   "name": "python",
   "nbconvert_exporter": "python",
   "pygments_lexer": "ipython3",
   "version": "3.6.9"
  }
 },
 "nbformat": 4,
 "nbformat_minor": 4
}