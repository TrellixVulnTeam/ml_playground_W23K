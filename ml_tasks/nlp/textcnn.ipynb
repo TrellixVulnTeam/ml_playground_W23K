{
 "cells": [
  {
   "cell_type": "code",
   "execution_count": 1,
   "metadata": {
    "tags": []
   },
   "outputs": [
    {
     "output_type": "stream",
     "name": "stdout",
     "text": "/home/yxjiang/source/ml_playground\n"
    }
   ],
   "source": [
    "# data downloading\n",
    "import data_util\n",
    "import pandas as pd\n",
    "from collections import defaultdict\n",
    "import os\n",
    "import sys\n",
    "\n",
    "os.chdir(\"/home/yxjiang/source/ml_playground\")\n",
    "print(os.getcwd())\n",
    "\n",
    "from util import config"
   ]
  },
  {
   "cell_type": "code",
   "execution_count": 2,
   "metadata": {
    "tags": []
   },
   "outputs": [
    {
     "output_type": "stream",
     "name": "stdout",
     "text": "Destination folder [/tmp/data] exists.\nTarget file [aclImdb_v1.tar.gz] exists, skip downloading.\nStart to extract [/tmp/data/aclImdb_v1.tar.gz] to [/tmp/data]...\nFile extracted\nProcessing vocabulary from [/tmp/data/aclImdb].\nThere size of vocabulary is : 89527\n"
    }
   ],
   "source": [
    "dataset_url=\"https://ai.stanford.edu/~amaas/data/sentiment/aclImdb_v1.tar.gz\"\n",
    "\n",
    "dest_dir = \"/tmp/data\"\n",
    "dataset_folder_path = os.path.join(dest_dir, \"aclImdb\")\n",
    "data_util.download_data(url=dataset_url, dest_dir=dest_dir)\n",
    "\n",
    "# generate word to id mapping\n",
    "word_to_id, word_list = data_util.get_vocabulary(folder_path=dataset_folder_path, file_suffix=\"vocab\")\n",
    "print(\"There size of vocabulary is :\", len(word_to_id))"
   ]
  },
  {
   "cell_type": "code",
   "execution_count": 7,
   "metadata": {},
   "outputs": [],
   "source": [
    "# model\n",
    "import torch.nn as nn\n",
    "\n",
    "class RNN(nn.Module):\n",
    "    def __init__(self, config, vocabulary_size):\n",
    "        super().__init__()\n",
    "        self.config = config\n",
    "        self.rnn_type = config.rnn_type\n",
    "        self.embed = nn.Embedding(vocabulary_size, config.word_embedding_length)\n",
    "        self.num_layers = config.num_layers if config.num_layers is not None else 1\n",
    "        self.directions = config.num_directions if config.num_directions is not None else 1\n",
    "        self.hidden_size = 128\n",
    "        if config.rnn_type is nn.RNN:\n",
    "            self.rnn = nn.RNN(\n",
    "                input_size=config.word_embedding_length, \n",
    "                hidden_size=self.hidden_size, \n",
    "                num_layers=self.num_layers,\n",
    "                bidirectional=False if self.directions == 1 else True\n",
    "            )\n",
    "        elif config.rnn_type is nn.LSTM:\n",
    "            self.cell_size = 128\n",
    "            self.rnn = nn.LSTM(\n",
    "                input_size=config.word_embedding_length,\n",
    "                hidden_size=self.hidden_size,\n",
    "                num_layers=self.num_layers,\n",
    "                bidirectional=False if self.directions == 1 else True\n",
    "            )\n",
    "        elif config.rnn_type is nn.GRU:\n",
    "            self.rnn = nn.GRU(\n",
    "                input_size=config.word_embedding_length, \n",
    "                hidden_size=self.hidden_size, \n",
    "                num_layers=self.num_layers,\n",
    "                bidirectional=False if self.directions == 1 else True\n",
    "            )\n",
    "        self.fc1 = nn.Linear(in_features=self.hidden_size * self.directions, out_features=64)\n",
    "        self.dropout = nn.Dropout(config.dropout)\n",
    "        self.fc2 = nn.Linear(in_features=64, out_features=config.num_classes)\n",
    "\n",
    "    def forward(self, x):\n",
    "        batch = x.shape[0]\n",
    "        x = self.embed(x)  # (batch, sentence_length, embedding_dim)\n",
    "        x = x.to(self.config.device)\n",
    "        x = x.permute(1, 0, 2).contiguous()  # (sentence_length, batch, embedding_dim)\n",
    "\n",
    "        h0 = torch.zeros((self.num_layers * self.directions, batch, self.hidden_size)).to(self.config.device)\n",
    "        if self.rnn_type is nn.RNN or self.rnn_type is nn.GRU:\n",
    "            output, ht = self.rnn(x, h0)\n",
    "        elif self.rnn_type is nn.LSTM:\n",
    "            c0 = torch.zeros((self.num_layers * self.directions, batch, self.hidden_size)).to(self.config.device)\n",
    "            output, (ht, ct) = self.rnn(x, (h0, c0))\n",
    "        # decompose layers and directions, (layer, directions, batch, embedding_dim)\n",
    "        ht = ht.view(self.num_layers, self.directions, ht.shape[1], -1) \n",
    "        ht = ht[-1]  # get last layer and remove layer dimension, (directions, batch, embedding_dim)\n",
    "        ht = ht.permute(1, 0, 2)  # (batch, directions, embedding_dim)\n",
    "        ht = ht.contiguous().view(batch, -1)\n",
    "        x = F.relu(self.fc1(ht))\n",
    "        x = self.dropout(x)\n",
    "        x = self.fc2(x)\n",
    "        x = x.view(batch, -1)\n",
    "        return x"
   ]
  },
  {
   "cell_type": "code",
   "execution_count": 8,
   "metadata": {
    "tags": []
   },
   "outputs": [
    {
     "output_type": "stream",
     "name": "stdout",
     "text": "[6 seconds](epoch: 0/200)[25000 samples] loss: 0.693.\neval loss: 0.694, accuracy: 49.624% [12406/25000]\n[71 seconds](epoch: 10/200)[275000 samples] loss: 0.692.\neval loss: 0.693, accuracy: 49.648% [12412/25000]\n[137 seconds](epoch: 20/200)[525000 samples] loss: 0.691.\neval loss: 0.693, accuracy: 49.768% [12442/25000]\n[202 seconds](epoch: 30/200)[775000 samples] loss: 0.691.\neval loss: 0.693, accuracy: 49.924% [12481/25000]\n[268 seconds](epoch: 40/200)[1025000 samples] loss: 0.693.\neval loss: 0.693, accuracy: 49.976% [12494/25000]\n[331 seconds](epoch: 50/200)[1275000 samples] loss: 0.691.\neval loss: 0.693, accuracy: 50.300% [12575/25000]\n[396 seconds](epoch: 60/200)[1525000 samples] loss: 0.690.\neval loss: 0.693, accuracy: 50.360% [12590/25000]\n[461 seconds](epoch: 70/200)[1775000 samples] loss: 0.688.\neval loss: 0.693, accuracy: 50.604% [12651/25000]\n[527 seconds](epoch: 80/200)[2025000 samples] loss: 0.687.\neval loss: 0.692, accuracy: 50.796% [12699/25000]\n[593 seconds](epoch: 90/200)[2275000 samples] loss: 0.689.\neval loss: 0.692, accuracy: 51.108% [12777/25000]\n[659 seconds](epoch: 100/200)[2525000 samples] loss: 0.678.\neval loss: 0.691, accuracy: 51.412% [12853/25000]\n[725 seconds](epoch: 110/200)[2775000 samples] loss: 0.663.\neval loss: 0.685, accuracy: 55.832% [13958/25000]\n[788 seconds](epoch: 120/200)[3025000 samples] loss: 0.662.\neval loss: 0.679, accuracy: 57.992% [14498/25000]\n[853 seconds](epoch: 130/200)[3275000 samples] loss: 0.642.\neval loss: 0.660, accuracy: 60.908% [15227/25000]\n[919 seconds](epoch: 140/200)[3525000 samples] loss: 0.620.\neval loss: 0.618, accuracy: 66.548% [16637/25000]\n[985 seconds](epoch: 150/200)[3775000 samples] loss: 0.588.\neval loss: 0.589, accuracy: 69.720% [17430/25000]\n[1051 seconds](epoch: 160/200)[4025000 samples] loss: 0.534.\neval loss: 0.573, accuracy: 71.140% [17785/25000]\n[1117 seconds](epoch: 170/200)[4275000 samples] loss: 0.508.\neval loss: 0.559, accuracy: 72.048% [18012/25000]\n[1182 seconds](epoch: 180/200)[4525000 samples] loss: 0.448.\neval loss: 0.549, accuracy: 73.164% [18291/25000]\n[1246 seconds](epoch: 190/200)[4775000 samples] loss: 0.516.\neval loss: 0.538, accuracy: 73.780% [18445/25000]\n[1305 seconds](epoch: 199/200)[5000000 samples] loss: 0.528.\neval loss: 0.530, accuracy: 74.584% [18646/25000]\n"
    }
   ],
   "source": [
    "# put everything together\n",
    "import time\n",
    "from data_util import *\n",
    "from models import *\n",
    "from trainer import classification_trainer\n",
    "from util import config\n",
    "\n",
    "import torch.optim as optim\n",
    "import torch.nn.functional as F\n",
    "\n",
    "\n",
    "def run(rnn_type, **kwargs):\n",
    "    cfg = config.Config(\n",
    "        rnn_type=rnn_type,\n",
    "        criteria=nn.CrossEntropyLoss, optimizer=optim.Adam, lr=0.00002, epochs=200, \n",
    "        batch_size=1024, num_classes=2, sentence_max_length=200, word_embedding_length=128, \n",
    "        activation=F.relu, dropout=0.1, **kwargs\n",
    "    )\n",
    "\n",
    "    pos_train_data_folder = os.path.join(dataset_folder_path, \"train/pos\")\n",
    "    neg_train_data_folder = os.path.join(dataset_folder_path, \"train/neg\")\n",
    "    train_dataset = MovieReviewDataset(cfg, pos_train_data_folder, neg_train_data_folder, word_to_id, \n",
    "                                transform=transforms.Compose([\n",
    "                                    TruncateTransform(cfg), \n",
    "                                    WordsToIdsTransform(cfg, word_to_id),\n",
    "                                    # PadTransform(cfg)\n",
    "                                ]))\n",
    "\n",
    "    pos_test_data_folder = os.path.join(dataset_folder_path, \"test/pos\")\n",
    "    neg_test_data_folder = os.path.join(dataset_folder_path, \"test/neg\")\n",
    "    test_dataset = MovieReviewDataset(cfg, pos_test_data_folder, neg_test_data_folder, word_to_id, \n",
    "                                transform=transforms.Compose([\n",
    "                                    TruncateTransform(cfg), \n",
    "                                    WordsToIdsTransform(cfg, word_to_id),\n",
    "                                    # PadTransform(cfg)\n",
    "                                ]))\n",
    "\n",
    "    train_dataloader = DataLoader(dataset=train_dataset, batch_size=cfg.batch_size, shuffle=True, collate_fn=data_util.pad_collate)\n",
    "    test_dataloader = DataLoader(dataset=test_dataset, batch_size=cfg.batch_size, collate_fn=data_util.pad_collate)\n",
    "\n",
    "    # model = TextCNN(cfg, len(word_to_id)).to(device)\n",
    "    model = RNN(cfg, len(word_list)).to(cfg.device)\n",
    "\n",
    "    classification_trainer.train(model=model, config=cfg, train_dataloader=train_dataloader, test_dataloader=test_dataloader, check_interval=10)\n",
    "\n",
    "# run(rnn_type=nn.GRU, num_layers=3, num_directions=2)\n",
    "# run(rnn_type=nn.GRU, num_layers=1, num_directions=1)\n",
    "# run(nn.LSTM, num_layers=3, num_directions=2)\n",
    "run(nn.LSTM, num_layers=1, num_directions=1)"
   ]
  },
  {
   "cell_type": "code",
   "execution_count": null,
   "metadata": {
    "tags": []
   },
   "outputs": [],
   "source": [
    "# tiny example\n",
    "import torch\n",
    "\n",
    "a = [torch.Tensor([1,2,3]), torch.Tensor([1,2,3,4,5,6]), torch.Tensor([1,2,3,4,5])]\n",
    "print('shapes of a:', [t.shape for t in a])\n",
    "\n",
    "pad = torch.nn.utils.rnn.pad_sequence(a)\n",
    "print('pad:', pad)\n",
    "\n",
    "packed_pad = torch.nn.utils.rnn.pack_padded_sequence(pad, lengths=[t.shape[0] for t in a], enforce_sorted=False)\n",
    "print('packed_pad:', packed_pad)\n"
   ]
  },
  {
   "cell_type": "code",
   "execution_count": null,
   "metadata": {},
   "outputs": [],
   "source": []
  }
 ],
 "metadata": {
  "kernelspec": {
   "display_name": "Python 3",
   "language": "python",
   "name": "python3"
  },
  "language_info": {
   "codemirror_mode": {
    "name": "ipython",
    "version": 3
   },
   "file_extension": ".py",
   "mimetype": "text/x-python",
   "name": "python",
   "nbconvert_exporter": "python",
   "pygments_lexer": "ipython3",
   "version": "3.6.9"
  }
 },
 "nbformat": 4,
 "nbformat_minor": 4
}